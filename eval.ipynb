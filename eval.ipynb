{
 "cells": [
  {
   "cell_type": "markdown",
   "id": "e5938a5e-25cf-4c0e-a3a3-5338bfe06847",
   "metadata": {},
   "source": [
    "# Evaluation"
   ]
  },
  {
   "cell_type": "markdown",
   "id": "e963e2f1-fa94-497e-8ea7-e5a0874d25be",
   "metadata": {},
   "source": [
    "This notebook is for running evaluation on the MATH dataset."
   ]
  },
  {
   "cell_type": "code",
   "execution_count": 1,
   "id": "bad46351-b5ef-4b84-9788-c0632e9e5b4c",
   "metadata": {},
   "outputs": [],
   "source": [
    "%load_ext autoreload\n",
    "%autoreload 2"
   ]
  },
  {
   "cell_type": "code",
   "execution_count": 2,
   "id": "c5b416b8-5f9b-4429-bfeb-fe7a395bfb9b",
   "metadata": {},
   "outputs": [
    {
     "data": {
      "text/plain": [
       "True"
      ]
     },
     "execution_count": 2,
     "metadata": {},
     "output_type": "execute_result"
    }
   ],
   "source": [
    "from dotenv import load_dotenv\n",
    "load_dotenv(override=True)"
   ]
  },
  {
   "cell_type": "code",
   "execution_count": 3,
   "id": "12ffab58-b368-4ab9-9b0e-3db0b90196c4",
   "metadata": {},
   "outputs": [
    {
     "name": "stderr",
     "output_type": "stream",
     "text": [
      "/home/ubuntu/.local/lib/python3.10/site-packages/tqdm/auto.py:21: TqdmWarning: IProgress not found. Please update jupyter and ipywidgets. See https://ipywidgets.readthedocs.io/en/stable/user_install.html\n",
      "  from .autonotebook import tqdm as notebook_tqdm\n"
     ]
    },
    {
     "name": "stdout",
     "output_type": "stream",
     "text": [
      "* CUDA:\n",
      "\t- GPU:\n",
      "\t\t- NVIDIA H100 PCIe\n",
      "\t- available:         True\n",
      "\t- version:           12.1\n",
      "* Packages:\n",
      "\t- numpy:             1.23.1\n",
      "\t- pandas:            1.4.4\n",
      "\t- pyTorch_debug:     False\n",
      "\t- pyTorch_version:   2.3.1+cu121\n",
      "\t- pytorch-lightning: 2.3.3\n",
      "\t- sklearn:           1.3.2\n",
      "\t- transformers:      4.42.4\n",
      "* System:\n",
      "\t- OS:                Linux\n",
      "\t- architecture:\n",
      "\t\t- 64bit\n",
      "\t\t- ELF\n",
      "\t- processor:         x86_64\n",
      "\t- python:            3.10.12\n",
      "\t- ram:               202329743360\n",
      "\t- version:           #10-Ubuntu SMP PREEMPT_DYNAMIC Wed Apr 26 00:40:27 UTC 2023\n"
     ]
    }
   ],
   "source": [
    "from src.env import print_env_details\n",
    "print_env_details()"
   ]
  },
  {
   "cell_type": "code",
   "execution_count": 15,
   "id": "6a782b88-8f7f-4f3d-a0a7-c15b11bb26d4",
   "metadata": {},
   "outputs": [],
   "source": [
    "from src.utils import load_jsonl\n",
    "from src.eval import evaluate"
   ]
  },
  {
   "cell_type": "code",
   "execution_count": 19,
   "id": "3b9959ef-fa37-4594-9c88-5c11deba961c",
   "metadata": {},
   "outputs": [
    {
     "name": "stderr",
     "output_type": "stream",
     "text": [
      "Evaluate:   0%|                                | 3/5000 [00:00<13:05,  6.36it/s]<string>:1: SyntaxWarning: 'set' object is not callable; perhaps you missed a comma?\n",
      "/usr/local/lib/python3.10/dist-packages/sympy/core/containers.py:54: SymPyDeprecationWarning: \n",
      "\n",
      "The string fallback in sympify() is deprecated.\n",
      "\n",
      "To explicitly convert the string form of an object, use\n",
      "sympify(str(obj)). To add define sympify behavior on custom\n",
      "objects, use sympy.core.sympify.converter or define obj._sympy_\n",
      "(see the sympify() docstring).\n",
      "\n",
      "sympify() performed the string fallback resulting in the following string:\n",
      "\n",
      "'<function N at 0x7fb2f43f93f0>'\n",
      "\n",
      "See https://docs.sympy.org/latest/explanation/active-deprecations.html#deprecated-sympify-string-fallback\n",
      "for details.\n",
      "\n",
      "This has been deprecated since SymPy version 1.6. It\n",
      "will be removed in a future version of SymPy.\n",
      "\n",
      "  args = (sympify(arg) for arg in args)\n",
      "<string>:1: SyntaxWarning: 'set' object is not callable; perhaps you missed a comma?\n",
      "Evaluate:  45%|████████████               | 2238/5000 [00:00<00:00, 5370.51it/s]<string>:1: SyntaxWarning: 'set' object is not callable; perhaps you missed a comma?\n",
      "<string>:1: SyntaxWarning: 'set' object is not callable; perhaps you missed a comma?\n",
      "Evaluate: 100%|███████████████████████████| 5000/5000 [00:00<00:00, 5461.71it/s]\n"
     ]
    },
    {
     "name": "stdout",
     "output_type": "stream",
     "text": [
      "Num samples: 5000\n",
      "Num scores: 5000\n",
      "Timeout samples: 0\n",
      "Empty samples: 5\n",
      "Mean score: [29.1]\n",
      "Type scores: {'Algebra': 41.1, 'Counting & Probability': 27.2, 'Geometry': 24.4, 'Intermediate Algebra': 14.2, 'Number Theory': 25.2, 'Prealgebra': 42.5, 'Precalculus': 16.3}\n",
      "Level scores: {'Level 1': 60.0, 'Level 2': 43.7, 'Level 3': 35.1, 'Level 4': 21.7, 'Level 5': 10.8}\n",
      "\n"
     ]
    }
   ],
   "source": [
    "samples = list(load_jsonl(\"data/results/phi3_python_outputs_notexec.json\"))[0]\n",
    "evaluate(samples)"
   ]
  },
  {
   "cell_type": "code",
   "execution_count": 21,
   "id": "a9c3cbc2-0965-479f-a858-f825c52f3fa4",
   "metadata": {},
   "outputs": [
    {
     "name": "stderr",
     "output_type": "stream",
     "text": [
      "Evaluate:   0%|                                | 3/5000 [00:00<05:41, 14.62it/s]/usr/local/lib/python3.10/dist-packages/sympy/core/containers.py:54: SymPyDeprecationWarning: \n",
      "\n",
      "The string fallback in sympify() is deprecated.\n",
      "\n",
      "To explicitly convert the string form of an object, use\n",
      "sympify(str(obj)). To add define sympify behavior on custom\n",
      "objects, use sympy.core.sympify.converter or define obj._sympy_\n",
      "(see the sympify() docstring).\n",
      "\n",
      "sympify() performed the string fallback resulting in the following string:\n",
      "\n",
      "'<function N at 0x7fb2f43f93f0>'\n",
      "\n",
      "See https://docs.sympy.org/latest/explanation/active-deprecations.html#deprecated-sympify-string-fallback\n",
      "for details.\n",
      "\n",
      "This has been deprecated since SymPy version 1.6. It\n",
      "will be removed in a future version of SymPy.\n",
      "\n",
      "  args = (sympify(arg) for arg in args)\n",
      "Evaluate: 100%|███████████████████████████| 5000/5000 [00:00<00:00, 8516.31it/s]\n"
     ]
    },
    {
     "name": "stdout",
     "output_type": "stream",
     "text": [
      "Num samples: 5000\n",
      "Num scores: 5000\n",
      "Timeout samples: 0\n",
      "Empty samples: 0\n",
      "Mean score: [39.8]\n",
      "Type scores: {'Algebra': 56.7, 'Counting & Probability': 30.4, 'Geometry': 32.6, 'Intermediate Algebra': 24.5, 'Number Theory': 28.7, 'Prealgebra': 57.5, 'Precalculus': 25.3}\n",
      "Level scores: {'Level 1': 70.3, 'Level 2': 56.7, 'Level 3': 48.1, 'Level 4': 34.2, 'Level 5': 16.2}\n",
      "\n"
     ]
    }
   ],
   "source": [
    "samples = list(load_jsonl(\"data/results/phi3_ft_python_outputs_notexec.json\"))[0]\n",
    "evaluate(samples)"
   ]
  }
 ],
 "metadata": {
  "kernelspec": {
   "display_name": "Python 3 (ipykernel)",
   "language": "python",
   "name": "python3"
  },
  "language_info": {
   "codemirror_mode": {
    "name": "ipython",
    "version": 3
   },
   "file_extension": ".py",
   "mimetype": "text/x-python",
   "name": "python",
   "nbconvert_exporter": "python",
   "pygments_lexer": "ipython3",
   "version": "3.10.12"
  }
 },
 "nbformat": 4,
 "nbformat_minor": 5
}
